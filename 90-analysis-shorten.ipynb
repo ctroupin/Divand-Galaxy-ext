{
 "cells": [
  {
   "cell_type": "markdown",
   "metadata": {
    "slideshow": {
     "slide_type": "slide"
    }
   },
   "source": [
    "# DIVAnd full analysis\n",
    "\n",
    "This notebook presents the different steps necessary for the creation of a climatology:\n",
    "1. ODV data reading.\n",
    "2. Extraction of bathymetry and creation of mask\n",
    "3. Data download from other sources and duplicate removal.\n",
    "4. Quality control.\n",
    "5. Parameter optimisation.\n",
    "6. Spatio-temporal interpolation with `DIVAnd`."
   ]
  },
  {
   "cell_type": "code",
   "execution_count": 2,
   "metadata": {},
   "outputs": [
    {
     "name": "stdout",
     "output_type": "stream",
     "text": [
      "\u001b[32m\u001b[1mStatus\u001b[22m\u001b[39m `/opt/julia/environments/v1.9/Project.toml`\n",
      "  \u001b[90m[336ed68f] \u001b[39mCSV v0.10.11\n",
      "  \u001b[90m[efc8151c] \u001b[39mDIVAnd v2.7.9\n",
      "  \u001b[90m[cf87cc76] \u001b[39mDataAssim v0.4.0\n",
      "  \u001b[90m[864edb3b] \u001b[39mDataStructures v0.18.15\n",
      "  \u001b[90m[7a1cc6ca] \u001b[39mFFTW v1.7.1\n",
      "  \u001b[90m[5789e2e9] \u001b[39mFileIO v1.16.1\n",
      "  \u001b[90m[c27321d9] \u001b[39mGlob v1.3.1\n",
      "  \u001b[90m[f67ccb44] \u001b[39mHDF5 v0.16.15\n",
      "  \u001b[90m[cd3eb016] \u001b[39mHTTP v1.9.14\n",
      "  \u001b[90m[7073ff75] \u001b[39mIJulia v1.24.2\n",
      "  \u001b[90m[82e4d734] \u001b[39mImageIO v0.6.7\n",
      "  \u001b[90m[916415d5] \u001b[39mImages v0.26.0\n",
      "  \u001b[90m[c601a237] \u001b[39mInteract v0.10.5\n",
      "  \u001b[90m[a98d9a8b] \u001b[39mInterpolations v0.14.7\n",
      "  \u001b[90m[682c06a0] \u001b[39mJSON v0.21.4\n",
      "  \u001b[90m[1902f260] \u001b[39mKnet v1.4.10\n",
      "  \u001b[90m[23992714] \u001b[39mMAT v0.10.5\n",
      "  \u001b[90m[e1d29d7a] \u001b[39mMissings v1.1.0\n",
      "  \u001b[90m[85f8d34a] \u001b[39mNCDatasets v0.12.17\n",
      "  \u001b[90m[9b87118b] \u001b[39mPackageCompiler v2.1.7\n",
      "  \u001b[90m[3725be50] \u001b[39mPhysOcean v0.6.7\n",
      "  \u001b[90m[c3e4b0f8] \u001b[39mPluto v0.19.27\n",
      "  \u001b[90m[438e738f] \u001b[39mPyCall v1.96.1\n",
      "  \u001b[90m[d330b81b] \u001b[39mPyPlot v2.11.1\n",
      "  \u001b[90m[f2b01f46] \u001b[39mRoots v2.0.17\n",
      "  \u001b[90m[276daf66] \u001b[39mSpecialFunctions v2.3.0\n",
      "  \u001b[90m[860ef19b] \u001b[39mStableRNGs v1.0.0\n",
      "  \u001b[90m[d6d074c3] \u001b[39mVideoIO v1.0.7\n"
     ]
    }
   ],
   "source": [
    "using Pkg\n",
    "Pkg.status()"
   ]
  },
  {
   "cell_type": "markdown",
   "metadata": {},
   "source": [
    "### Import packages"
   ]
  },
  {
   "cell_type": "code",
   "execution_count": 3,
   "metadata": {
    "slideshow": {
     "slide_type": "subslide"
    }
   },
   "outputs": [
    {
     "name": "stderr",
     "output_type": "stream",
     "text": [
      "\u001b[36m\u001b[1m[ \u001b[22m\u001b[39m\u001b[36m\u001b[1mInfo: \u001b[22m\u001b[39mPrecompiling NCDatasets [85f8d34a-cbdd-5861-8df4-14fed0d494ab]\n",
      "\u001b[36m\u001b[1m[ \u001b[22m\u001b[39m\u001b[36m\u001b[1mInfo: \u001b[22m\u001b[39mPrecompiling PhysOcean [3725be50-bbbd-5592-92c3-2f0e82159c3e]\n",
      "\u001b[36m\u001b[1m[ \u001b[22m\u001b[39m\u001b[36m\u001b[1mInfo: \u001b[22m\u001b[39mPrecompiling DIVAnd [efc8151c-67de-5a8f-9a35-d8f54746ae9d]\n",
      "\u001b[36m\u001b[1m[ \u001b[22m\u001b[39m\u001b[36m\u001b[1mInfo: \u001b[22m\u001b[39mPrecompiling PyPlot [d330b81b-6aea-500a-939a-2ce795aea3ee]\n",
      "\u001b[36m\u001b[1m[ \u001b[22m\u001b[39m\u001b[36m\u001b[1mInfo: \u001b[22m\u001b[39mPrecompiling RatiosFixedPointNumbersExt [dc815b64-233b-5bd3-8c5c-a58ec2b485bf]\n"
     ]
    }
   ],
   "source": [
    "using NCDatasets\n",
    "using PhysOcean\n",
    "using DataStructures\n",
    "using DIVAnd\n",
    "using Dates\n",
    "using Statistics\n",
    "using Random\n",
    "using Printf\n",
    "using PyPlot"
   ]
  },
  {
   "cell_type": "markdown",
   "metadata": {
    "slideshow": {
     "slide_type": "subslide"
    }
   },
   "source": [
    "## Configuration\n",
    "* Define the horizontal, vertical (depth levels) and temporal resolutions.\n",
    "* Select the variable of interest"
   ]
  },
  {
   "cell_type": "code",
   "execution_count": 4,
   "metadata": {
    "slideshow": {
     "slide_type": "subslide"
    }
   },
   "outputs": [],
   "source": [
    "dx, dy = 0.125, 0.125\n",
    "lonr = 19:dx:30\n",
    "latr = 32:dy:38\n",
    "timerange = [Date(1950,1,1),Date(2017,12,31)];\n",
    "\n",
    "depthr = [0.,5., 10., 15., 20., 25., 30., 40., 50., 66, \n",
    "    75, 85, 100, 112, 125, 135, 150, 175, 200, 225, 250, \n",
    "    275, 300, 350, 400, 450, 500, 550, 600, 650, 700, 750, \n",
    "    800, 850, 900, 950, 1000, 1050, 1100, 1150, 1200, 1250, \n",
    "    1300, 1350, 1400, 1450, 1500, 1600, 1750, 1850, 2000];\n",
    "depthr = [0.,10.,20.];"
   ]
  },
  {
   "cell_type": "code",
   "execution_count": 5,
   "metadata": {
    "slideshow": {
     "slide_type": "fragment"
    }
   },
   "outputs": [],
   "source": [
    "varname = \"Phosphate\"\n",
    "yearlist = [1900:2020];\n",
    "monthlist = [[1,2,3],[4,5,6],[7,8,9],[10,11,12]];"
   ]
  },
  {
   "cell_type": "markdown",
   "metadata": {},
   "source": [
    "We create here the variable TS (for \"_time selector_\"), which allows us to work with the observations corresponding to each period of interest."
   ]
  },
  {
   "cell_type": "code",
   "execution_count": 6,
   "metadata": {
    "slideshow": {
     "slide_type": "subslide"
    }
   },
   "outputs": [
    {
     "name": "stdout",
     "output_type": "stream",
     "text": [
      "TS = TimeSelectorYearListMonthList{Vector{UnitRange{Int64}}, Vector{Vector{Int64}}}(UnitRange{Int64}[1900:2020], [[1, 2, 3], [4, 5, 6], [7, 8, 9], [10, 11, 12]])\n"
     ]
    }
   ],
   "source": [
    "TS = DIVAnd.TimeSelectorYearListMonthList(yearlist,monthlist);\n",
    "@show TS;"
   ]
  },
  {
   "cell_type": "markdown",
   "metadata": {
    "slideshow": {
     "slide_type": "slide"
    }
   },
   "source": [
    "## 1. Read your ODV file\n",
    "Adapt the `datadir` and `datafile` values.     \n",
    "The example is based on a sub-setting of the [Mediterranean Sea](https://www.seadatanet.org/Products#/metadata/cd552057-b604-4004-b838-a4f73cc98fcf) aggregated dataset.      \n",
    "The dataset has been extracted around the Adriatic Sea and exported to a netCDF using [Ocean Data View](https://odv.awi.de/).\n",
    "<img src=\"./Images/MedSeaAggreg.jpg\" width=\"450px\">"
   ]
  },
  {
   "cell_type": "code",
   "execution_count": 39,
   "metadata": {},
   "outputs": [
    {
     "name": "stderr",
     "output_type": "stream",
     "text": [
      "\u001b[36m\u001b[1m[ \u001b[22m\u001b[39m\u001b[36m\u001b[1mInfo: \u001b[22m\u001b[39mDirectory already created\n"
     ]
    },
    {
     "data": {
      "text/plain": [
       "3-element Vector{String}:\n",
       " \"1_data_from_Eutrophication_Med_profiles_2022_unrestricted.netcdf\"\n",
       " \"Diva-Workshops-data\"\n",
       " \"jwd01\""
      ]
     },
     "execution_count": 39,
     "metadata": {},
     "output_type": "execute_result"
    }
   ],
   "source": [
    "datadir = \"/data\"\n",
    "smalldatafile = joinpath(datadir, \"1_data_from_Eutrophication_Med_profiles_2022_unrestricted.netcdf\")\n",
    "datafile = joinpath(datadir, \"1_data_from_Eutrophication_Med_profiles_2022_unrestricted.netcdf\")\n",
    "isdir(datadir) ? @info(\"Directory already created\") : mkpath(datadir)"
   ]
  },
  {
   "cell_type": "code",
   "execution_count": 40,
   "metadata": {},
   "outputs": [
    {
     "ename": "LoadError",
     "evalue": "NetCDF error: \u001b[31mNetCDF: Invalid dimension ID or name\u001b[39m (NetCDF error code: -46)",
     "output_type": "error",
     "traceback": [
      "NetCDF error: \u001b[31mNetCDF: Invalid dimension ID or name\u001b[39m (NetCDF error code: -46)",
      "",
      "Stacktrace:",
      "  [1] check",
      "    @ /opt/julia/packages/NCDatasets/st9Jz/src/errorhandling.jl:25 [inlined]",
      "  [2] nc_inq_dimid(ncid::Int32, name::String)",
      "    @ NCDatasets /opt/julia/packages/NCDatasets/st9Jz/src/netcdf_c.jl:1261",
      "  [3] getindex",
      "    @ /opt/julia/packages/NCDatasets/st9Jz/src/dimensions.jl:24 [inlined]",
      "  [4] (::DIVAnd.NCODV.var\"#10#11\"{Int64, DataType, String, String, Vector{String}})(ds::NCDataset{Nothing})",
      "    @ DIVAnd.NCODV /opt/julia/packages/DIVAnd/MV3j9/src/NCODV.jl:323",
      "  [5] NCDataset(f::DIVAnd.NCODV.var\"#10#11\"{Int64, DataType, String, String, Vector{String}}, args::String; kwargs::Base.Pairs{Symbol, Union{}, Tuple{}, NamedTuple{(), Tuple{}}})",
      "    @ NCDatasets /opt/julia/packages/NCDatasets/st9Jz/src/dataset.jl:255",
      "  [6] NCDataset(f::Function, args::String)",
      "    @ NCDatasets /opt/julia/packages/NCDatasets/st9Jz/src/dataset.jl:252",
      "  [7] #load#9",
      "    @ /opt/julia/packages/DIVAnd/MV3j9/src/NCODV.jl:322 [inlined]",
      "  [8] load(T::Type, fname::String, long_name::String)",
      "    @ DIVAnd.NCODV /opt/julia/packages/DIVAnd/MV3j9/src/NCODV.jl:317",
      "  [9] top-level scope",
      "    @ ./timing.jl:273 [inlined]",
      " [10] top-level scope",
      "    @ ./In[40]:0"
     ]
    }
   ],
   "source": [
    "@time obsval,obslon,obslat,obsdepth,obstime,obsid = NCODV.load(Float64, smalldatafile, \n",
    "    \"Water body phosphate\");"
   ]
  },
  {
   "cell_type": "markdown",
   "metadata": {},
   "source": [
    "Then you can read the full file:"
   ]
  },
  {
   "cell_type": "code",
   "execution_count": 9,
   "metadata": {
    "slideshow": {
     "slide_type": "fragment"
    }
   },
   "outputs": [
    {
     "ename": "LoadError",
     "evalue": "NetCDF error: \u001b[31mOpening path /data/1_data_from_Eutrophication_Med_profiles_2022_unrestricted.netcdf: No such file or directory\u001b[39m (NetCDF error code: 2)",
     "output_type": "error",
     "traceback": [
      "NetCDF error: \u001b[31mOpening path /data/1_data_from_Eutrophication_Med_profiles_2022_unrestricted.netcdf: No such file or directory\u001b[39m (NetCDF error code: 2)",
      "",
      "Stacktrace:",
      " [1] nc_open(path::String, mode::UInt16)",
      "   @ NCDatasets /opt/julia/packages/NCDatasets/st9Jz/src/netcdf_c.jl:274",
      " [2] NCDataset(filename::String, mode::String; format::Symbol, share::Bool, diskless::Bool, persist::Bool, memory::Nothing, attrib::Vector{Any})",
      "   @ NCDatasets /opt/julia/packages/NCDatasets/st9Jz/src/dataset.jl:217",
      " [3] NCDataset (repeats 2 times)",
      "   @ /opt/julia/packages/NCDatasets/st9Jz/src/dataset.jl:177 [inlined]",
      " [4] NCDataset(f::DIVAnd.NCODV.var\"#10#11\"{Int64, DataType, String, String, Vector{String}}, args::String; kwargs::Base.Pairs{Symbol, Union{}, Tuple{}, NamedTuple{(), Tuple{}}})",
      "   @ NCDatasets /opt/julia/packages/NCDatasets/st9Jz/src/dataset.jl:253",
      " [5] NCDataset(f::Function, args::String)",
      "   @ NCDatasets /opt/julia/packages/NCDatasets/st9Jz/src/dataset.jl:252",
      " [6] #load#9",
      "   @ /opt/julia/packages/DIVAnd/MV3j9/src/NCODV.jl:322 [inlined]",
      " [7] load(T::Type, fname::String, long_name::String)",
      "   @ DIVAnd.NCODV /opt/julia/packages/DIVAnd/MV3j9/src/NCODV.jl:317",
      " [8] top-level scope",
      "   @ ./timing.jl:273 [inlined]",
      " [9] top-level scope",
      "   @ ./In[9]:0"
     ]
    }
   ],
   "source": [
    "@time obsval,obslon,obslat,obsdepth,obstime,obsid = NCODV.load(Float64, datafile, \n",
    "    \"Water body phosphate\");"
   ]
  },
  {
   "cell_type": "code",
   "execution_count": 10,
   "metadata": {
    "slideshow": {
     "slide_type": "subslide"
    }
   },
   "outputs": [
    {
     "ename": "LoadError",
     "evalue": "UndefVarError: `obslon` not defined",
     "output_type": "error",
     "traceback": [
      "UndefVarError: `obslon` not defined",
      "",
      "Stacktrace:",
      " [1] top-level scope",
      "   @ In[10]:3"
     ]
    }
   ],
   "source": [
    "figure(\"Mediterranean-Data\")\n",
    "ax = subplot(1,1,1)\n",
    "plot(obslon, obslat, \"ko\", markersize=.1, markerfacecolor=\"k\")\n",
    "aspectratio = 1/cos(mean(latr) * pi/180)\n",
    "ax.tick_params(\"both\",labelsize=6)\n",
    "gca().set_aspect(aspectratio)"
   ]
  },
  {
   "cell_type": "markdown",
   "metadata": {
    "slideshow": {
     "slide_type": "subslide"
    }
   },
   "source": [
    "Check the extremal values of the observations"
   ]
  },
  {
   "cell_type": "code",
   "execution_count": 11,
   "metadata": {},
   "outputs": [
    {
     "ename": "LoadError",
     "evalue": "UndefVarError: `obslon` not defined",
     "output_type": "error",
     "traceback": [
      "UndefVarError: `obslon` not defined",
      "",
      "Stacktrace:",
      " [1] top-level scope",
      "   @ In[11]:1"
     ]
    }
   ],
   "source": [
    "checkobs((obslon,obslat,obsdepth,obstime),obsval,obsid)"
   ]
  },
  {
   "cell_type": "markdown",
   "metadata": {
    "slideshow": {
     "slide_type": "slide"
    }
   },
   "source": [
    "## 2. Extract the bathymetry\n",
    "It is used to delimit the domain where the interpolation is performed.\n",
    "\n",
    "### 2.1 Choice of bathymetry\n",
    "Modify `bathname` according to the resolution required."
   ]
  },
  {
   "cell_type": "code",
   "execution_count": 12,
   "metadata": {
    "slideshow": {
     "slide_type": "fragment"
    }
   },
   "outputs": [
    {
     "data": {
      "text/plain": [
       "\"/data/1_data_from_Eutrophication_Med_profiles_2022_unrestricted.netcdf\""
      ]
     },
     "execution_count": 12,
     "metadata": {},
     "output_type": "execute_result"
    }
   ],
   "source": [
    "bathname = \"/data/1_data_from_Eutrophication_Med_profiles_2022_unrestricted.netcdf\"\n",
    "isfile(bathname) ? @info(\"Bathymetry file already downloaded\") : download(\"https://dox.ulg.ac.be/index.php/s/U0pqyXhcQrXjEUX/download\", bathname)"
   ]
  },
  {
   "cell_type": "code",
   "execution_count": 13,
   "metadata": {
    "slideshow": {
     "slide_type": "fragment"
    }
   },
   "outputs": [
    {
     "name": "stdout",
     "output_type": "stream",
     "text": [
      "  3.187015 seconds (3.92 M allocations: 253.585 MiB, 4.46% gc time, 99.39% compilation time)\n"
     ]
    }
   ],
   "source": [
    "@time bx,by,b = load_bath(bathname,true,lonr,latr);"
   ]
  },
  {
   "cell_type": "code",
   "execution_count": 14,
   "metadata": {
    "slideshow": {
     "slide_type": "subslide"
    }
   },
   "outputs": [
    {
     "ename": "LoadError",
     "evalue": "UndefVarError: `aspectratio` not defined",
     "output_type": "error",
     "traceback": [
      "UndefVarError: `aspectratio` not defined",
      "",
      "Stacktrace:",
      " [1] top-level scope",
      "   @ In[14]:6"
     ]
    }
   ],
   "source": [
    "figure(\"Mediterranean-Bathymetry\")\n",
    "ax = subplot(1,1,1)\n",
    "pcolor(bx, by, permutedims(b, [2,1]));\n",
    "colorbar(orientation=\"vertical\", shrink=0.8).ax.tick_params(labelsize=8)\n",
    "contour(bx, by, permutedims(b, [2,1]), [0, 0.1], colors=\"k\", linewidths=.5)\n",
    "gca().set_aspect(aspectratio)\n",
    "ax.tick_params(\"both\",labelsize=6)"
   ]
  },
  {
   "cell_type": "markdown",
   "metadata": {
    "slideshow": {
     "slide_type": "subslide"
    }
   },
   "source": [
    "### 2.2 Create mask\n",
    "* False for sea        \n",
    "* True for land"
   ]
  },
  {
   "cell_type": "code",
   "execution_count": 15,
   "metadata": {
    "slideshow": {
     "slide_type": "fragment"
    }
   },
   "outputs": [
    {
     "name": "stdout",
     "output_type": "stream",
     "text": [
      "size(mask) = (89, 49, 3)\n"
     ]
    },
    {
     "data": {
      "text/plain": [
       "(89, 49, 3)"
      ]
     },
     "execution_count": 15,
     "metadata": {},
     "output_type": "execute_result"
    }
   ],
   "source": [
    "mask = falses(size(b,1),size(b,2),length(depthr))\n",
    "for k = 1:length(depthr)\n",
    "    for j = 1:size(b,2)\n",
    "        for i = 1:size(b,1)\n",
    "            mask[i,j,k] = b[i,j] >= depthr[k]\n",
    "        end\n",
    "    end\n",
    "end\n",
    "@show size(mask)"
   ]
  },
  {
   "cell_type": "code",
   "execution_count": 16,
   "metadata": {
    "slideshow": {
     "slide_type": "subslide"
    }
   },
   "outputs": [
    {
     "ename": "LoadError",
     "evalue": "UndefVarError: `aspectratio` not defined",
     "output_type": "error",
     "traceback": [
      "UndefVarError: `aspectratio` not defined",
      "",
      "Stacktrace:",
      " [1] top-level scope",
      "   @ In[16]:3"
     ]
    }
   ],
   "source": [
    "figure(\"Mediterranean-Mask\")\n",
    "ax = subplot(1,1,1)\n",
    "gca().set_aspect(aspectratio)\n",
    "ax.tick_params(\"both\",labelsize=6)\n",
    "ax.pcolor(bx, by, transpose(mask[:,:,1]), cmap=PyPlot.cm.binary_r)\n",
    "ax.set_title(\"Land-sea mask\")"
   ]
  },
  {
   "cell_type": "markdown",
   "metadata": {
    "slideshow": {
     "slide_type": "slide"
    }
   },
   "source": [
    "## 4. Quality control\n",
    "We check the salinity value.     \n",
    "Adapt the criteria to your region and variable."
   ]
  },
  {
   "cell_type": "code",
   "execution_count": 17,
   "metadata": {
    "slideshow": {
     "slide_type": "fragment"
    }
   },
   "outputs": [
    {
     "ename": "LoadError",
     "evalue": "UndefVarError: `obsval` not defined",
     "output_type": "error",
     "traceback": [
      "UndefVarError: `obsval` not defined",
      "",
      "Stacktrace:",
      " [1] top-level scope",
      "   @ In[17]:1"
     ]
    }
   ],
   "source": [
    "sel = (obsval .<= 40) .& (obsval .>= 25);"
   ]
  },
  {
   "cell_type": "code",
   "execution_count": 18,
   "metadata": {
    "slideshow": {
     "slide_type": "fragment"
    }
   },
   "outputs": [
    {
     "ename": "LoadError",
     "evalue": "UndefVarError: `obsval` not defined",
     "output_type": "error",
     "traceback": [
      "UndefVarError: `obsval` not defined",
      "",
      "Stacktrace:",
      " [1] top-level scope",
      "   @ In[18]:1"
     ]
    }
   ],
   "source": [
    "obsval = obsval[sel]\n",
    "obslon = obslon[sel]\n",
    "obslat = obslat[sel]\n",
    "obsdepth = obsdepth[sel]\n",
    "obstime = obstime[sel]\n",
    "obsid = obsid[sel];"
   ]
  },
  {
   "cell_type": "markdown",
   "metadata": {
    "slideshow": {
     "slide_type": "slide"
    }
   },
   "source": [
    "## 5. Analysis parameters"
   ]
  },
  {
   "cell_type": "markdown",
   "metadata": {
    "slideshow": {
     "slide_type": "subslide"
    }
   },
   "source": [
    "### Modify data weight \n",
    "⌛⌛⌛       \n",
    "Compute the new weights that takes into account close points.     \n",
    "If the dataset is large, this can take a few minutes.     \n",
    "The maximal and mean values provide an indication of the spatial proximity between the data.    \n",
    "If you apply this technique, you need to adapt `epsilon2`:"
   ]
  },
  {
   "cell_type": "code",
   "execution_count": 19,
   "metadata": {
    "slideshow": {
     "slide_type": "fragment"
    }
   },
   "outputs": [],
   "source": [
    "#@time rdiag=1.0./DIVAnd.weight_RtimesOne((obslon,obslat),(0.03,0.03));\n",
    "#@show maximum(rdiag),mean(rdiag)"
   ]
  },
  {
   "cell_type": "markdown",
   "metadata": {
    "slideshow": {
     "slide_type": "subslide"
    }
   },
   "source": [
    "### Correlation lengths and noise-to-signal ratio\n",
    "We will use the function `diva3D` for the calculations.     \n",
    "With this function, the correlation length has to be defined in meters, not in degrees."
   ]
  },
  {
   "cell_type": "code",
   "execution_count": 20,
   "metadata": {
    "slideshow": {
     "slide_type": "fragment"
    }
   },
   "outputs": [],
   "source": [
    "sz = (length(lonr),length(latr),length(depthr));\n",
    "lenx = fill(100_000.,sz)   # 100 km\n",
    "leny = fill(100_000.,sz)   # 100 km\n",
    "lenz = fill(25.,sz);      # 25 m \n",
    "len = (lenx, leny, lenz);\n",
    "epsilon2 = 0.1;\n",
    "#epsilon2 = epsilon2 * rdiag;"
   ]
  },
  {
   "cell_type": "markdown",
   "metadata": {
    "slideshow": {
     "slide_type": "subslide"
    }
   },
   "source": [
    "### Output file name"
   ]
  },
  {
   "cell_type": "code",
   "execution_count": 21,
   "metadata": {
    "slideshow": {
     "slide_type": "fragment"
    }
   },
   "outputs": [
    {
     "data": {
      "text/plain": [
       "\"/outputs/Water_body_Phosphate_Mediterranean.nc\""
      ]
     },
     "execution_count": 21,
     "metadata": {},
     "output_type": "execute_result"
    }
   ],
   "source": [
    "outputdir = \"/outputs/\"\n",
    "if !isdir(outputdir)\n",
    "    mkpath(outputdir)\n",
    "end\n",
    "filename = joinpath(outputdir, \"Water_body_$(replace(varname,\" \"=>\"_\"))_Mediterranean.nc\")"
   ]
  },
  {
   "cell_type": "markdown",
   "metadata": {
    "slideshow": {
     "slide_type": "slide"
    }
   },
   "source": [
    "## 7. Analysis"
   ]
  },
  {
   "cell_type": "markdown",
   "metadata": {
    "slideshow": {
     "slide_type": "subslide"
    }
   },
   "source": [
    "Remove the result file before running the analysis, otherwise you'll get the message     \n",
    "```julia\n",
    "NCDatasets.NetCDFError(13, \"Permission denied\")\n",
    "```"
   ]
  },
  {
   "cell_type": "code",
   "execution_count": 22,
   "metadata": {
    "slideshow": {
     "slide_type": "fragment"
    }
   },
   "outputs": [],
   "source": [
    "if isfile(filename)\n",
    "    rm(filename) # delete the previous analysis\n",
    "    @info \"Removing file $filename\"\n",
    "end"
   ]
  },
  {
   "cell_type": "markdown",
   "metadata": {
    "slideshow": {
     "slide_type": "subslide"
    }
   },
   "source": [
    "### 7.1 Plotting function\n",
    "Define a plotting function that will be applied for each time index and depth level.     \n",
    "All the figures will be saved in a selected directory."
   ]
  },
  {
   "cell_type": "code",
   "execution_count": 23,
   "metadata": {
    "slideshow": {
     "slide_type": "subslide"
    }
   },
   "outputs": [
    {
     "name": "stderr",
     "output_type": "stream",
     "text": [
      "\u001b[36m\u001b[1m[ \u001b[22m\u001b[39m\u001b[36m\u001b[1mInfo: \u001b[22m\u001b[39mFigure directory already exists\n"
     ]
    }
   ],
   "source": [
    "figdir = \"/outputs/\"\n",
    "if ~(isdir(figdir))\n",
    "    mkdir(figdir)\n",
    "else\n",
    "    @info(\"Figure directory already exists\")\n",
    "end"
   ]
  },
  {
   "cell_type": "code",
   "execution_count": 24,
   "metadata": {
    "slideshow": {
     "slide_type": "subslide"
    }
   },
   "outputs": [
    {
     "data": {
      "text/plain": [
       "plotres (generic function with 1 method)"
      ]
     },
     "execution_count": 24,
     "metadata": {},
     "output_type": "execute_result"
    }
   ],
   "source": [
    "function plotres(timeindex,sel,fit,erri)\n",
    "    tmp = copy(fit)\n",
    "    nx,ny,nz = size(tmp)\n",
    "    for i in 1:nz\n",
    "        figure(\"Mediterranean-Additional-Data\")\n",
    "        ax = subplot(1,1,1)\n",
    "        ax.tick_params(\"both\",labelsize=6)\n",
    "        ylim(39.0, 46.0);\n",
    "        xlim(11.5, 20.0);\n",
    "        title(\"Depth: $(depthr[i]) \\n Time index: $(timeindex)\", fontsize=6)\n",
    "        pcolor(lonr.-dx/2.,latr.-dy/2, permutedims(tmp[:,:,i], [2,1]);\n",
    "               vmin = 33, vmax = 40)\n",
    "        colorbar(extend=\"both\", orientation=\"vertical\", shrink=0.8).ax.tick_params(labelsize=8)\n",
    "\n",
    "        contourf(bx,by,permutedims(b,[2,1]), levels = [-1e5,0],colors = [[.5,.5,.5]])\n",
    "        aspectratio = 1/cos(mean(latr) * pi/180)\n",
    "        gca().set_aspect(aspectratio)\n",
    "        \n",
    "        figname = varname * @sprintf(\"_%02d\",i) * @sprintf(\"_%03d.png\",timeindex)\n",
    "        PyPlot.savefig(joinpath(figdir, figname), dpi=600, bbox_inches=\"tight\");\n",
    "        PyPlot.close_figs()\n",
    "    end\n",
    "end"
   ]
  },
  {
   "cell_type": "markdown",
   "metadata": {
    "slideshow": {
     "slide_type": "subslide"
    }
   },
   "source": [
    "### 7.2 Create the gridded fields using `diva3d`\n",
    "Here only the noise-to-signal ratio is estimated.     \n",
    "Set `fitcorrlen` to `true` to also optimise the correlation length."
   ]
  },
  {
   "cell_type": "code",
   "execution_count": 25,
   "metadata": {
    "slideshow": {
     "slide_type": "subslide"
    }
   },
   "outputs": [
    {
     "ename": "LoadError",
     "evalue": "UndefVarError: `obslon` not defined",
     "output_type": "error",
     "traceback": [
      "UndefVarError: `obslon` not defined",
      "",
      "Stacktrace:",
      " [1] top-level scope",
      "   @ ./timing.jl:273 [inlined]",
      " [2] top-level scope",
      "   @ ./In[25]:0"
     ]
    }
   ],
   "source": [
    "@time dbinfo = diva3d((lonr,latr,depthr,TS),\n",
    "    (obslon,obslat,obsdepth,obstime), obsval,\n",
    "    len, epsilon2,\n",
    "    filename,varname,\n",
    "    bathname=bathname,\n",
    "    plotres = plotres,\n",
    "    mask = mask_edit,\n",
    "    fitcorrlen = false,\n",
    "    niter_e = 2,\n",
    "    ncvarattrib = ncvarattrib,\n",
    "    ncglobalattrib = ncglobalattrib,\n",
    "    surfextend = true\n",
    "    );"
   ]
  },
  {
   "cell_type": "markdown",
   "metadata": {
    "slideshow": {
     "slide_type": "subslide"
    }
   },
   "source": [
    "Example of results: salinity at 20 meters for the April-May-June period."
   ]
  },
  {
   "cell_type": "markdown",
   "metadata": {
    "slideshow": {
     "slide_type": "fragment"
    }
   },
   "source": [
    "<img src=\"./Adriatic/figures/Salinity_02_002.png\" width=\"450px\">"
   ]
  },
  {
   "cell_type": "markdown",
   "metadata": {
    "slideshow": {
     "slide_type": "subslide"
    }
   },
   "source": [
    "Save the observation metadata in the NetCDF file.      "
   ]
  },
  {
   "cell_type": "code",
   "execution_count": 26,
   "metadata": {
    "slideshow": {
     "slide_type": "fragment"
    }
   },
   "outputs": [
    {
     "ename": "LoadError",
     "evalue": "UndefVarError: `obslon` not defined",
     "output_type": "error",
     "traceback": [
      "UndefVarError: `obslon` not defined",
      "",
      "Stacktrace:",
      " [1] top-level scope",
      "   @ In[26]:1"
     ]
    }
   ],
   "source": [
    "DIVAnd.saveobs(filename,(obslon,obslat,obsdepth,obstime),obsid);"
   ]
  },
  {
   "cell_type": "code",
   "execution_count": null,
   "metadata": {},
   "outputs": [],
   "source": []
  }
 ],
 "metadata": {
  "@webio": {
   "lastCommId": null,
   "lastKernelId": null
  },
  "kernelspec": {
   "display_name": "Julia 1.9.2",
   "language": "julia",
   "name": "julia-1.9"
  },
  "language_info": {
   "file_extension": ".jl",
   "mimetype": "application/julia",
   "name": "julia",
   "version": "1.9.2"
  }
 },
 "nbformat": 4,
 "nbformat_minor": 4
}
